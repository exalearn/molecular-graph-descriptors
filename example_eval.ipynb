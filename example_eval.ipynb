{
 "cells": [
  {
   "cell_type": "markdown",
   "metadata": {},
   "source": [
    "## SchNet evaluation\n",
    "* Example script for inference with a trained SchNet model"
   ]
  },
  {
   "cell_type": "code",
   "execution_count": 1,
   "metadata": {},
   "outputs": [],
   "source": [
    "import os\n",
    "import numpy as np\n",
    "import torch\n",
    "\n",
    "from ase.io import read, write\n",
    "\n",
    "from schnetpack.environment import SimpleEnvironmentProvider\n",
    "from schnetpack import AtomsLoader, AtomsData"
   ]
  },
  {
   "cell_type": "code",
   "execution_count": 16,
   "metadata": {},
   "outputs": [],
   "source": [
    "# set up arguments\n",
    "class Args:\n",
    "    modelpath = './model/'\n",
    "    cuda = 'cpu'\n",
    "    datapath = './data/W10_geoms_all_lowestE.xyz'\n",
    "    index = 0\n",
    "    \n",
    "args=Args()"
   ]
  },
  {
   "cell_type": "markdown",
   "metadata": {},
   "source": [
    "### Encode water clusters in ASE database\n",
    "* pass in .xyz files of water clusters\n",
    "* https://sites.uw.edu/wdbase/database-of-water-clusters/"
   ]
  },
  {
   "cell_type": "code",
   "execution_count": 13,
   "metadata": {},
   "outputs": [],
   "source": [
    "def data_loader(datapath, idx=0):\n",
    "    atoms = read(datapath, index=f'{idx}:{idx+1}')\n",
    "    at = atoms[0]\n",
    "    \n",
    "    property_list = {'energy': np.array([float(list(at.info.keys())[0])], dtype=np.float32)}\n",
    "    \n",
    "    new_dataset={}\n",
    "\n",
    "    atom_positions = at.positions.astype(np.float32)\n",
    "    atom_positions -= at.get_center_of_mass() \n",
    "\n",
    "    environment_provider = SimpleEnvironmentProvider()\n",
    "    nbh_idx, offsets = environment_provider.get_environment(at)\n",
    "\n",
    "    new_dataset['_atomic_numbers'] = torch.LongTensor(at.numbers.astype(np.int))\n",
    "    new_dataset['_positions'] = torch.FloatTensor(atom_positions)\n",
    "    new_dataset['_cell'] = torch.FloatTensor(at.cell.astype(np.float32))\n",
    "    new_dataset['_neighbors'] = torch.LongTensor(nbh_idx.astype(np.int))\n",
    "    new_dataset['_cell_offset'] = torch.FloatTensor(offsets.astype(np.float32))\n",
    "    new_dataset['_idx'] = torch.LongTensor(np.array([idx], dtype=np.int))\n",
    "\n",
    "    return AtomsLoader([new_dataset], batch_size=1), property_list\n",
    "\n",
    "\n",
    "data_loader, property_list =  data_loader(args.datapath, idx=args.index)"
   ]
  },
  {
   "cell_type": "markdown",
   "metadata": {},
   "source": [
    "### Load pre-trained SchNet model\n",
    "* best_model trained on 500k water clusters\n",
    "* https://aip.scitation.org/doi/full/10.1063/5.0009933"
   ]
  },
  {
   "cell_type": "code",
   "execution_count": 17,
   "metadata": {},
   "outputs": [],
   "source": [
    "# load model\n",
    "model = torch.load(os.path.join(args.modelpath, \"best_model\"), map_location=args.cuda)\n",
    "\n",
    "# model created using DataParallel\n",
    "model = torch.nn.DataParallel(model.module)"
   ]
  },
  {
   "cell_type": "code",
   "execution_count": 18,
   "metadata": {},
   "outputs": [
    {
     "data": {
      "text/plain": [
       "<bound method Module.parameters of AtomisticModel(\n",
       "  (representation): SchNet(\n",
       "    (embedding): Embedding(100, 100, padding_idx=0)\n",
       "    (distances): AtomDistances()\n",
       "    (distance_expansion): GaussianSmearing()\n",
       "    (interactions): ModuleList(\n",
       "      (0): SchNetInteraction(\n",
       "        (filter_network): Sequential(\n",
       "          (0): Dense(in_features=25, out_features=100, bias=True)\n",
       "          (1): Dense(in_features=100, out_features=100, bias=True)\n",
       "        )\n",
       "        (cutoff_network): HardCutoff()\n",
       "        (cfconv): CFConv(\n",
       "          (in2f): Dense(in_features=100, out_features=100, bias=False)\n",
       "          (f2out): Dense(in_features=100, out_features=100, bias=True)\n",
       "          (filter_network): Sequential(\n",
       "            (0): Dense(in_features=25, out_features=100, bias=True)\n",
       "            (1): Dense(in_features=100, out_features=100, bias=True)\n",
       "          )\n",
       "          (cutoff_network): HardCutoff()\n",
       "          (agg): Aggregate()\n",
       "        )\n",
       "        (dense): Dense(in_features=100, out_features=100, bias=True)\n",
       "      )\n",
       "      (1): SchNetInteraction(\n",
       "        (filter_network): Sequential(\n",
       "          (0): Dense(in_features=25, out_features=100, bias=True)\n",
       "          (1): Dense(in_features=100, out_features=100, bias=True)\n",
       "        )\n",
       "        (cutoff_network): HardCutoff()\n",
       "        (cfconv): CFConv(\n",
       "          (in2f): Dense(in_features=100, out_features=100, bias=False)\n",
       "          (f2out): Dense(in_features=100, out_features=100, bias=True)\n",
       "          (filter_network): Sequential(\n",
       "            (0): Dense(in_features=25, out_features=100, bias=True)\n",
       "            (1): Dense(in_features=100, out_features=100, bias=True)\n",
       "          )\n",
       "          (cutoff_network): HardCutoff()\n",
       "          (agg): Aggregate()\n",
       "        )\n",
       "        (dense): Dense(in_features=100, out_features=100, bias=True)\n",
       "      )\n",
       "    )\n",
       "  )\n",
       "  (output_modules): ModuleList(\n",
       "    (0): Atomwise(\n",
       "      (out_net): Sequential(\n",
       "        (0): GetItem()\n",
       "        (1): MLP(\n",
       "          (out_net): Sequential(\n",
       "            (0): Dense(in_features=100, out_features=50, bias=True)\n",
       "            (1): Dense(in_features=50, out_features=1, bias=True)\n",
       "          )\n",
       "        )\n",
       "      )\n",
       "      (standardize): ScaleShift()\n",
       "      (atom_pool): Aggregate()\n",
       "    )\n",
       "  )\n",
       ")>"
      ]
     },
     "execution_count": 18,
     "metadata": {},
     "output_type": "execute_result"
    }
   ],
   "source": [
    "model.module.parameters"
   ]
  },
  {
   "cell_type": "code",
   "execution_count": 19,
   "metadata": {},
   "outputs": [
    {
     "name": "stdout",
     "output_type": "stream",
     "text": [
      "Actual:    [-94.670654]\n",
      "Predicted: [-94.671135]\n"
     ]
    }
   ],
   "source": [
    "# predict energy\n",
    "with torch.no_grad():\n",
    "    for batch in data_loader:\n",
    "        out_data = model(batch)\n",
    "        \n",
    "print(f\"Actual:    {property_list['energy']}\")\n",
    "print(f\"Predicted: {out_data['energy'].numpy()[0]}\")"
   ]
  },
  {
   "cell_type": "code",
   "execution_count": null,
   "metadata": {},
   "outputs": [],
   "source": []
  }
 ],
 "metadata": {
  "kernelspec": {
   "display_name": "Python 3",
   "language": "python",
   "name": "python3"
  },
  "language_info": {
   "codemirror_mode": {
    "name": "ipython",
    "version": 3
   },
   "file_extension": ".py",
   "mimetype": "text/x-python",
   "name": "python",
   "nbconvert_exporter": "python",
   "pygments_lexer": "ipython3",
   "version": "3.6.7"
  }
 },
 "nbformat": 4,
 "nbformat_minor": 2
}
